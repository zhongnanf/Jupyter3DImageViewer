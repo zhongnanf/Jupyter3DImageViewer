{
 "cells": [
  {
   "cell_type": "code",
   "execution_count": null,
   "metadata": {},
   "outputs": [],
   "source": [
    "# First Initialize Images Here\n",
    "import h5py\n",
    "img_path = ['img_0.h5','img_1.h5','img_2.h5','img_3.h5']\n",
    "imgs = []\n",
    "for cnt1 in range(len(img_path)):\n",
    "    \n",
    "    with h5py.File(img_path[cnt1],'r') as h5:\n",
    "        print(img_path[cnt1])\n",
    "        img = h5['data'][...]\n",
    "        print(img.shape)\n",
    "    imgs.append(img)\n"
   ]
  },
  {
   "cell_type": "code",
   "execution_count": null,
   "metadata": {},
   "outputs": [],
   "source": [
    "# Import the 3D viewer\n",
    "from bokehView3D import bokehView3D\n",
    "viewer = bokehView3D()\n",
    "\n",
    "# Display Single 3D image, axis controls the view (Axial, Coronal, Saggital),\n",
    "# plot_size controls the actually display size.\n",
    "viewer.imshow3d(imgs[0], axis=1, plot_size=0.8)\n"
   ]
  },
  {
   "cell_type": "code",
   "execution_count": null,
   "metadata": {},
   "outputs": [],
   "source": [
    "# If multiple images are compared\n",
    "viewer.compare_3d_imgs(imgs, axis=2, plot_size=0.8, view_vertical=True)"
   ]
  },
  {
   "cell_type": "code",
   "execution_count": null,
   "metadata": {},
   "outputs": [],
   "source": [
    "# Overlap two images for comparison\n",
    "viewer. compare_aligned_3d(imgs[0], imgs[1], axis=2, plot_size=0.8)"
   ]
  }
 ],
 "metadata": {
  "kernelspec": {
   "display_name": "Python 3",
   "language": "python",
   "name": "python3"
  },
  "language_info": {
   "codemirror_mode": {
    "name": "ipython",
    "version": 3
   },
   "file_extension": ".py",
   "mimetype": "text/x-python",
   "name": "python",
   "nbconvert_exporter": "python",
   "pygments_lexer": "ipython3",
   "version": "3.6.8"
  }
 },
 "nbformat": 4,
 "nbformat_minor": 2
}