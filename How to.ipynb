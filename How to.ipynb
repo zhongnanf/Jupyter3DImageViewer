{
 "cells": [
  {
   "cell_type": "code",
   "execution_count": null,
   "metadata": {},
   "outputs": [],
   "source": [
    "import nibabel as nib\n",
    "\n",
    "nii = nib.load('imgs/MNI152_T1_1mm.nii.gz')\n",
    "img_full = nii.get_fdata()\n",
    "\n",
    "nii = nib.load('imgs/MNI152_T1_1mm_Brain.nii.gz')\n",
    "img_brain = nii.get_fdata()"
   ]
  },
  {
   "cell_type": "code",
   "execution_count": null,
   "metadata": {
    "scrolled": false
   },
   "outputs": [],
   "source": [
    "# Import the 3D viewer\n",
    "from bokehView3D.bokehView3D import bokehView3D\n",
    "from bokeh.io import output_notebook\n",
    "viewer = bokehView3D()\n",
    "output_notebook()\n",
    "\n",
    "# Display Single 3D image, axis controls the view (Axial, Coronal, Saggital),\n",
    "# plot_size controls the actually display size.\n",
    "viewer.imshow3d(img_full, axis=2, plot_size=0.8, img_res=(1, 1, 1))\n"
   ]
  },
  {
   "cell_type": "code",
   "execution_count": null,
   "metadata": {},
   "outputs": [],
   "source": [
    "# If multiple images are compared\n",
    "viewer.compare_3d_imgs([img_full, img_brain], axis=2, plot_size=0.8, view_vertical=False, img_res=(1, 1, 1))"
   ]
  },
  {
   "cell_type": "code",
   "execution_count": null,
   "metadata": {
    "scrolled": false
   },
   "outputs": [],
   "source": [
    "# Overlap two images for comparison\n",
    "viewer.compare_aligned_3d(img_full, img_brain, axis=2, plot_size=0.8, img_res=(1, 1, 1))"
   ]
  },
  {
   "cell_type": "code",
   "execution_count": null,
   "metadata": {},
   "outputs": [],
   "source": []
  }
 ],
 "metadata": {
  "kernelspec": {
   "display_name": "Python 3 (ipykernel)",
   "language": "python",
   "name": "python3"
  },
  "language_info": {
   "codemirror_mode": {
    "name": "ipython",
    "version": 3
   },
   "file_extension": ".py",
   "mimetype": "text/x-python",
   "name": "python",
   "nbconvert_exporter": "python",
   "pygments_lexer": "ipython3",
   "version": "3.7.13"
  }
 },
 "nbformat": 4,
 "nbformat_minor": 2
}
